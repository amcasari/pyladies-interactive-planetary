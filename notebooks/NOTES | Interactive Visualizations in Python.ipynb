{
 "cells": [
  {
   "cell_type": "markdown",
   "metadata": {},
   "source": [
    "## Do these things:\n",
    "- pick a topic\n",
    "- make notebooks + scripts\n",
    "- update requirements.py\n",
    "- structure directory nicely....[she](https://github.com/chdoig/scipy2015-blaze-bokeh) does an amazing job of setting up a github repo for a workshop\n",
    "- make slides\n",
    "- update README\n",
    "- run through presentation w/ guinea pigs\n",
    "- make slides\n",
    "- add pdf of slides to repo\n",
    "\n",
    "### AND ONLY THEN:\n",
    "- push to github\n",
    "- post repo on Meetup page or sent to Wendy + Erin to add"
   ]
  },
  {
   "cell_type": "markdown",
   "metadata": {},
   "source": [
    "### for those seeking \"inspiration\":\n",
    "- http://www.periscopic.com/\n",
    "- https://www.brainpickings.org/2013/08/14/how-einstein-thought-combinatorial-creativity/\n",
    "- every visual effects winner ever: https://www.youtube.com/watch?v=z0aXoXifX5o\n",
    "\n",
    "### for those seeking data:\n",
    "- NSFW: https://github.com/BobAdamsEE/SouthParkData\n",
    "\n",
    "### research\n",
    "- general: https://github.com/fasouto/awesome-dataviz#python-tools\n",
    "- comparison + hw here: https://www.dataquest.io/blog/python-data-visualization-libraries/\n",
    "- find things here: http://keshif.me/demo/VisTools\n",
    "- general :http://pbpython.com/visualization-tools-1.html\n",
    "- research: https://www.youtube.com/watch?v=2wq4mZyGJas\n",
    "- pandas + folium: https://github.com/python-visualization/folium\n",
    "- matplotlib: http://www.randalolson.com/2014/06/28/how-to-make-beautiful-data-visualizations-in-python-with-matplotlib/\n",
    "- matplotlib: https://jakevdp.github.io/blog/2013/03/23/matplotlib-and-the-future-of-visualization-in-python/\n",
    "- d3 + mongodb: http://adilmoujahid.com/posts/2015/01/interactive-data-visualization-d3-dc-python-mongodb/\n",
    "- vispy: http://vispy.org/\n",
    "- bokeh: http://bokeh.pydata.org/en/latest/\n",
    "- model complexity: https://jakevdp.github.io/blog/2015/07/06/model-complexity-myth/"
   ]
  },
  {
   "cell_type": "markdown",
   "metadata": {},
   "source": [
    "### IDEA\n",
    "How to view results from Data Science API?\n",
    "- create a model + API\n",
    "- make predictions\n",
    "- how to capture + show predictions? view data w/o tableau?"
   ]
  },
  {
   "cell_type": "markdown",
   "metadata": {},
   "source": [
    "### IDEA\n",
    "Review libraries + give example in each (boring)"
   ]
  },
  {
   "cell_type": "markdown",
   "metadata": {},
   "source": [
    "### IDEA\n",
    "\n",
    "examine my bookmarks w/ NLP + visualization"
   ]
  },
  {
   "cell_type": "markdown",
   "metadata": {},
   "source": [
    "### IDEA\n",
    "visualize data from datalore hacks"
   ]
  },
  {
   "cell_type": "code",
   "execution_count": null,
   "metadata": {
    "collapsed": true
   },
   "outputs": [],
   "source": []
  },
  {
   "cell_type": "code",
   "execution_count": null,
   "metadata": {
    "collapsed": true
   },
   "outputs": [],
   "source": []
  }
 ],
 "metadata": {
  "kernelspec": {
   "display_name": "Python 2",
   "language": "python",
   "name": "python2"
  },
  "language_info": {
   "codemirror_mode": {
    "name": "ipython",
    "version": 2
   },
   "file_extension": ".py",
   "mimetype": "text/x-python",
   "name": "python",
   "nbconvert_exporter": "python",
   "pygments_lexer": "ipython2",
   "version": "2.7.11"
  }
 },
 "nbformat": 4,
 "nbformat_minor": 0
}
